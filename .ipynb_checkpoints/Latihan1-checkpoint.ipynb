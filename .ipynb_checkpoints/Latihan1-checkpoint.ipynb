{
 "cells": [
  {
   "cell_type": "markdown",
   "metadata": {},
   "source": [
    "# Latihan 1 (Pertemuan 4)"
   ]
  },
  {
   "cell_type": "markdown",
   "metadata": {},
   "source": [
    "Pada keluaran buku terbaru, Harry Potter harga buku adalah Rp 100.000, tetapi toko buku mendapatkan diskon 40%. Pengiriman biaya Rp 9.000 untuk salinan pertama dan Rp 3.000 untuk setiap salinan tambahan. Berapa total biaya keseluruhan untuk pengiriman buku 60 eksemplar?\n",
    "\n",
    "Berikut Kodenya:"
   ]
  },
  {
   "cell_type": "code",
   "execution_count": 1,
   "metadata": {},
   "outputs": [
    {
     "name": "stdout",
     "output_type": "stream",
     "text": [
      "Harga Buku: 100000\n",
      "Diskon: 40 %\n",
      "Banyak Pembelian: 60 Buku\n",
      "Ongkir Pertama 9000 ,Onkir Seterusnya 3000\n",
      "Formula: (Harga Buku Diskon 40% * Banyak Pembelian) + (Ongkir Pertama + ((Banyak Pembelian - 1) * Ongkir Seterusnya))\n",
      "Formula: ( 60000.0 * 60 ) + ( 9000 + (( 60 - 1) * 3000 ))\n",
      "Jumlah yang Harus Dibayar: 3786000.0\n"
     ]
    }
   ],
   "source": [
    "h=100000;d=40;jb=60;o1=9000;on=3000\n",
    "hj=h-(h*d/100)\n",
    "bt=(hj*jb)+(o1+((jb-1)*on))\n",
    "print(\"Harga Buku:\",h)\n",
    "print(\"Diskon:\",d,\"%\")\n",
    "print(\"Banyak Pembelian:\",jb,\"Buku\")\n",
    "print(\"Ongkir Pertama\",o1,\",Onkir Seterusnya\",on)\n",
    "print(\"Formula: (Harga Buku Diskon 40% * Banyak Pembelian) + (Ongkir Pertama + ((Banyak Pembelian - 1) * Ongkir Seterusnya))\")\n",
    "print(\"Formula: (\",hj,\"*\",jb,\") + (\",o1,\"+ ((\",jb,\"- 1) *\",on,\"))\")\n",
    "print(\"Jumlah yang Harus Dibayar:\",bt)"
   ]
  }
 ],
 "metadata": {
  "kernelspec": {
   "display_name": "Python 3",
   "language": "python",
   "name": "python3"
  },
  "language_info": {
   "codemirror_mode": {
    "name": "ipython",
    "version": 3
   },
   "file_extension": ".py",
   "mimetype": "text/x-python",
   "name": "python",
   "nbconvert_exporter": "python",
   "pygments_lexer": "ipython3",
   "version": "3.7.0"
  }
 },
 "nbformat": 4,
 "nbformat_minor": 2
}
