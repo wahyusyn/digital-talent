{
 "cells": [
  {
   "cell_type": "markdown",
   "metadata": {},
   "source": [
    "# Tugas 1 (Menghitung BMI)"
   ]
  },
  {
   "cell_type": "markdown",
   "metadata": {
    "raw_mimetype": "text/markdown"
   },
   "source": [
    "Body Mass Index (BMI) menentukan sebuah keidealan berat badan terhadap tinggi badan. Berikut adalah formula dari BMI : BMI = weight (kg) ÷ height^2 (m^2)\n",
    "\n",
    "Berikut adalah kategorisasi BMI\n",
    "\n",
    "    x<15       : Very severely underweight\n",
    "    15>=x<16   : Severely underweight \n",
    "    16>=x<18.5 : Underweight \n",
    "    18.5>=x<25 : Normal (healthy weight) \n",
    "    25>=x<30   : Overweight \n",
    "    30>=x<35   : Moderately obese \n",
    "    35>=x<40   : Severely obese \n",
    "    x>40       : Very severely obese \n",
    "\n",
    "Buatlah sebuah program yang memiliki dua variabel berat badan dengan satuan KG, dan tinggi badan dengan satuan CM, kemudian keluaran dari program adalah Kategori BMI\n",
    "\n",
    "Berikut Kodenya:"
   ]
  },
  {
   "cell_type": "code",
   "execution_count": 1,
   "metadata": {},
   "outputs": [
    {
     "name": "stdout",
     "output_type": "stream",
     "text": [
      "Beratnya (Kg):67\n",
      "Tingginya (Cm):167\n",
      "Berat = 67 Kg; Tinggi = 167 Cm;\n",
      "BMI = 24.023808670084982 { Normal (healthy weight) }\n"
     ]
    }
   ],
   "source": [
    "#tugas 1 wahyu; saved 2018-10-19 20:06:13\n",
    "#inisialisasi output\n",
    "k1=\"Very severely underweight\"\n",
    "K2=\"Severely underweight\"\n",
    "k3=\"Underweight\"\n",
    "k4=\"Normal (healthy weight)\"\n",
    "k5=\"Overweight\"\n",
    "k6=\"Moderately obese\"\n",
    "k7=\"Severely obese\"\n",
    "k8=\"Very severely obese\"\n",
    "#membuat fungsi BMI (inputan tinggi CM dikonversi ke M)\n",
    "def bmi(w,h):\n",
    "\td=w/(pow(h/100,2))\n",
    "\treturn d\n",
    "#membuat inputan berat dan tinggi interaktif\n",
    "berat=int(input(\"Beratnya (Kg):\"))\n",
    "tinggi=int(input(\"Tingginya (Cm):\"))\n",
    "#jalankan funsi BMI, hasilnya dimasukkan ke var bobotBmi\n",
    "bobotBmi=bmi(berat,tinggi)\n",
    "#kondisi\n",
    "if bobotBmi<15:\n",
    "\tprint(\"Berat =\",berat,\"Kg; Tinggi =\",tinggi,\"Cm;\")\n",
    "\tprint(\"BMI =\",bobotBmi,\"{\",k1,\"}\")\n",
    "elif bobotBmi>=15 and bobotBmi<16:\n",
    "\tprint(\"Berat =\",berat,\"Kg; Tinggi =\",tinggi,\"Cm;\")\n",
    "\tprint(\"BMI =\",bobotBmi,\"{\",k2,\"}\")\n",
    "elif bobotBmi>=16 and bobotBmi<18.5:\n",
    "\tprint(\"Berat =\",berat,\"Kg; Tinggi =\",tinggi,\"Cm;\")\n",
    "\tprint(\"BMI =\",bobotBmi,\"{\",k3,\"}\")\n",
    "elif bobotBmi>=18.5 and bobotBmi<25:\n",
    "\tprint(\"Berat =\",berat,\"Kg; Tinggi =\",tinggi,\"Cm;\")\n",
    "\tprint(\"BMI =\",bobotBmi,\"{\",k4,\"}\")\n",
    "elif bobotBmi>=25 and bobotBmi<30:\n",
    "\tprint(\"Berat =\",berat,\"Kg; Tinggi =\",tinggi,\"Cm;\")\n",
    "\tprint(\"BMI =\",bobotBmi,\"{\",k5,\"}\")\n",
    "elif bobotBmi>=30 and bobotBmi<35:\n",
    "\tprint(\"Berat =\",berat,\"Kg; Tinggi =\",tinggi,\"Cm;\")\n",
    "\tprint(\"BMI =\",bobotBmi,\"{\",k6,\"}\")\n",
    "elif bobotBmi>=35 and bobotBmi<40:\n",
    "\tprint(\"Berat =\",berat,\"Kg; Tinggi =\",tinggi,\"Cm;\")\n",
    "\tprint(\"BMI =\",bobotBmi,\"{\",k7,\"}\")\n",
    "else:\n",
    "\tprint(\"Berat =\",berat,\"Kg; Tinggi =\",tinggi,\"Cm;\")\n",
    "\tprint(\"BMI =\",bobotBmi,\"{\",k8,\"}\")"
   ]
  }
 ],
 "metadata": {
  "celltoolbar": "Raw Cell Format",
  "kernelspec": {
   "display_name": "Python 3",
   "language": "python",
   "name": "python3"
  },
  "language_info": {
   "codemirror_mode": {
    "name": "ipython",
    "version": 3
   },
   "file_extension": ".py",
   "mimetype": "text/x-python",
   "name": "python",
   "nbconvert_exporter": "python",
   "pygments_lexer": "ipython3",
   "version": "3.7.0"
  }
 },
 "nbformat": 4,
 "nbformat_minor": 2
}
